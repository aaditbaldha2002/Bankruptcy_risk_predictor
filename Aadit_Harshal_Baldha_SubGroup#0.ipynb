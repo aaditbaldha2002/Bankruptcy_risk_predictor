{
 "cells": [
  {
   "cell_type": "markdown",
   "id": "4c0b91b1",
   "metadata": {},
   "source": [
    "# Name: Aadit Harshal Baldha\n",
    "# Batch: Fall 2024 (2nd Sem)\n",
    "# CWID: 20029691"
   ]
  },
  {
   "cell_type": "markdown",
   "id": "b0b8bb98",
   "metadata": {},
   "source": [
    "## Topic: ML: Fundamentals and Applications Project Individual Work for Cluster Group #0"
   ]
  },
  {
   "cell_type": "markdown",
   "id": "9366ab70",
   "metadata": {},
   "source": [
    "### 3.3 Building the Training Model"
   ]
  },
  {
   "cell_type": "markdown",
   "id": "cd94f5b5",
   "metadata": {},
   "source": [
    "#### 3.3.1 Creating the Classification Model"
   ]
  },
  {
   "cell_type": "code",
   "execution_count": 16,
   "id": "f3ff7497",
   "metadata": {},
   "outputs": [],
   "source": [
    "import pandas as pd\n",
    "import numpy as np\n",
    "import matplotlib.pyplot as plt"
   ]
  },
  {
   "cell_type": "code",
   "execution_count": 17,
   "id": "fa8f3832",
   "metadata": {},
   "outputs": [
    {
     "name": "stdout",
     "output_type": "stream",
     "text": [
      "Fitting 5 folds for each of 72 candidates, totalling 360 fits\n"
     ]
    },
    {
     "name": "stderr",
     "output_type": "stream",
     "text": [
      "c:\\Users\\aadit\\Anaconda\\envs\\AaHB_CS556B_Env\\Lib\\site-packages\\xgboost\\training.py:183: UserWarning: [01:39:24] WARNING: C:\\actions-runner\\_work\\xgboost\\xgboost\\src\\learner.cc:738: \n",
      "Parameters: { \"use_label_encoder\" } are not used.\n",
      "\n",
      "  bst.update(dtrain, iteration=i, fobj=obj)\n"
     ]
    },
    {
     "name": "stdout",
     "output_type": "stream",
     "text": [
      "Best Parameters Found: {'colsample_bytree': 1.0, 'learning_rate': 0.2, 'max_depth': 3, 'n_estimators': 200, 'subsample': 0.8}\n",
      "\n",
      "Classification Report:\n",
      "              precision    recall  f1-score   support\n",
      "\n",
      "           0       0.96      0.95      0.95       311\n",
      "           1       0.95      0.96      0.95       470\n",
      "           2       0.96      0.95      0.96       381\n",
      "\n",
      "    accuracy                           0.95      1162\n",
      "   macro avg       0.96      0.95      0.95      1162\n",
      "weighted avg       0.95      0.95      0.95      1162\n",
      "\n"
     ]
    },
    {
     "data": {
      "image/png": "[encoded data removed]",
      "text/plain": [
       "<Figure size 800x600 with 2 Axes>"
      ]
     },
     "metadata": {},
     "output_type": "display_data"
    }
   ],
   "source": [
    "import xgboost as xgb\n",
    "from sklearn.model_selection import train_test_split, GridSearchCV\n",
    "from sklearn.metrics import classification_report, confusion_matrix\n",
    "from sklearn.model_selection import StratifiedKFold\n",
    "import matplotlib.pyplot as plt\n",
    "import seaborn as sns\n",
    "\n",
    "clustered_df = pd.read_csv('output/clustered_data.csv')\n",
    "\n",
    "# Step 1: Prepare data\n",
    "X = clustered_df.drop(columns=['Cluster'])\n",
    "y = clustered_df['Cluster']\n",
    "\n",
    "# Step 2: Train-test split\n",
    "X_train, X_test, y_train, y_test = train_test_split(\n",
    "    X, y, test_size=0.2, random_state=42, stratify=y\n",
    ")\n",
    "\n",
    "# Step 3: Define the model\n",
    "xgb_model = xgb.XGBClassifier(\n",
    "    objective='multi:softmax',\n",
    "    num_class=len(y.unique()),\n",
    "    eval_metric='mlogloss',\n",
    "    use_label_encoder=False,\n",
    "    random_state=42\n",
    ")\n",
    "\n",
    "# Step 4: Set up Grid Search Parameters\n",
    "param_grid = {\n",
    "    'n_estimators': [100, 200],\n",
    "    'max_depth': [3, 5, 7],\n",
    "    'learning_rate': [0.01, 0.1, 0.2],\n",
    "    'subsample': [0.8, 1.0],\n",
    "    'colsample_bytree': [0.8, 1.0]\n",
    "}\n",
    "\n",
    "# Step 5: Cross-Validation Strategy\n",
    "cv = StratifiedKFold(n_splits=5, shuffle=True, random_state=42)\n",
    "\n",
    "# Step 6: Grid Search with Cross-Validation\n",
    "grid_search = GridSearchCV(\n",
    "    estimator=xgb_model,\n",
    "    param_grid=param_grid,\n",
    "    scoring='accuracy',\n",
    "    cv=cv,\n",
    "    verbose=2,\n",
    "    n_jobs=-1\n",
    ")\n",
    "\n",
    "grid_search.fit(X_train, y_train)\n",
    "\n",
    "# Step 7: Best Model\n",
    "best_model = grid_search.best_estimator_\n",
    "classification_model_best_params = grid_search.best_params_\n",
    "print(\"Best Parameters Found:\", grid_search.best_params_)\n",
    "\n",
    "# Step 8: Predict\n",
    "y_pred = best_model.predict(X_test)\n",
    "\n",
    "# Step 9: Evaluation\n",
    "print(\"\\nClassification Report:\")\n",
    "print(classification_report(y_test, y_pred))\n",
    "\n",
    "# Confusion Matrix\n",
    "cm = confusion_matrix(y_test, y_pred)\n",
    "plt.figure(figsize=(8,6))\n",
    "sns.heatmap(cm, annot=True, fmt='d', cmap='Blues',\n",
    "            xticklabels=sorted(y.unique()), yticklabels=sorted(y.unique()))\n",
    "plt.xlabel('Predicted Label')\n",
    "plt.ylabel('True Label')\n",
    "plt.title('Confusion Matrix - XGBoost Prediction with GridSearchCV')\n",
    "plt.show()\n"
   ]
  },
  {
   "cell_type": "markdown",
   "id": "ef00a3b0",
   "metadata": {},
   "source": [
    "#### 3.3.2 Building the Stacking Model"
   ]
  },
  {
   "cell_type": "code",
   "execution_count": 18,
   "id": "5262a889",
   "metadata": {},
   "outputs": [],
   "source": [
    "import numpy as np\n",
    "import pandas as pd\n",
    "\n",
    "from sklearn.model_selection import StratifiedKFold, cross_val_predict\n",
    "from sklearn.ensemble import StackingClassifier\n",
    "from sklearn.metrics import accuracy_score, confusion_matrix, classification_report\n",
    "\n",
    "from sklearn.tree import DecisionTreeClassifier\n",
    "from sklearn.neighbors import KNeighborsClassifier\n",
    "from sklearn.ensemble import RandomForestClassifier\n",
    "from xgboost import XGBClassifier\n",
    "from sklearn.linear_model import LogisticRegression\n",
    "\n",
    "from sklearn.preprocessing import StandardScaler\n",
    "from sklearn.pipeline import make_pipeline\n",
    "import seaborn as sns\n",
    "import matplotlib.pyplot as plt\n"
   ]
  },
  {
   "cell_type": "code",
   "execution_count": 19,
   "id": "cf459834",
   "metadata": {},
   "outputs": [],
   "source": [
    "# Separate features and labels\n",
    "X = clustered_df[clustered_df['Cluster']==2].drop(columns=['Bankrupt?'])  # Replace 'Bankrupt?' with your target column\n",
    "y = clustered_df[clustered_df['Cluster']==2]['Bankrupt?']\n"
   ]
  },
  {
   "cell_type": "code",
   "execution_count": 20,
   "id": "50a2c5dc",
   "metadata": {},
   "outputs": [
    {
     "name": "stdout",
     "output_type": "stream",
     "text": [
      "Tuning DT...\n",
      "Best params for DT: {'class_weight': 'balanced', 'max_depth': 3, 'min_samples_split': 2}\n",
      "Best CV Recall: 0.6398\n",
      "------------------------------------------------------------\n",
      "Tuning KNN...\n",
      "Best params for KNN: {'kneighborsclassifier__n_neighbors': 3, 'kneighborsclassifier__weights': 'uniform'}\n",
      "Best CV Recall: 0.1775\n",
      "------------------------------------------------------------\n",
      "Tuning RF...\n",
      "Best params for RF: {'class_weight': 'balanced', 'max_depth': 5, 'min_samples_split': 2, 'n_estimators': 100}\n",
      "Best CV Recall: 0.5660\n",
      "------------------------------------------------------------\n",
      "Tuning XGB...\n"
     ]
    },
    {
     "name": "stderr",
     "output_type": "stream",
     "text": [
      "c:\\Users\\aadit\\Anaconda\\envs\\AaHB_CS556B_Env\\Lib\\site-packages\\xgboost\\training.py:183: UserWarning: [01:40:16] WARNING: C:\\actions-runner\\_work\\xgboost\\xgboost\\src\\learner.cc:738: \n",
      "Parameters: { \"use_label_encoder\" } are not used.\n",
      "\n",
      "  bst.update(dtrain, iteration=i, fobj=obj)\n"
     ]
    },
    {
     "name": "stdout",
     "output_type": "stream",
     "text": [
      "Best params for XGB: {'learning_rate': 0.05, 'max_depth': 3, 'n_estimators': 100, 'scale_pos_weight': 3}\n",
      "Best CV Recall: 0.3685\n",
      "------------------------------------------------------------\n"
     ]
    },
    {
     "name": "stderr",
     "output_type": "stream",
     "text": [
      "c:\\Users\\aadit\\Anaconda\\envs\\AaHB_CS556B_Env\\Lib\\site-packages\\sklearn\\base.py:474: FutureWarning: `BaseEstimator._validate_data` is deprecated in 1.6 and will be removed in 1.7. Use `sklearn.utils.validation.validate_data` instead. This function becomes public and is part of the scikit-learn developer API.\n",
      "  warnings.warn(\n"
     ]
    },
    {
     "name": "stdout",
     "output_type": "stream",
     "text": [
      "\n",
      "Classification Report for Stacked Model:\n",
      "              precision    recall  f1-score   support\n",
      "\n",
      "           0       0.94      0.94      0.94       345\n",
      "           1       0.44      0.46      0.45        37\n",
      "\n",
      "    accuracy                           0.89       382\n",
      "   macro avg       0.69      0.70      0.69       382\n",
      "weighted avg       0.89      0.89      0.89       382\n",
      "\n"
     ]
    },
    {
     "data": {
      "image/png": "[encoded data removed]",
      "text/plain": [
       "<Figure size 800x600 with 2 Axes>"
      ]
     },
     "metadata": {},
     "output_type": "display_data"
    }
   ],
   "source": [
    "import numpy as np\n",
    "import pandas as pd\n",
    "\n",
    "from sklearn.model_selection import GridSearchCV, StratifiedKFold, train_test_split\n",
    "from sklearn.preprocessing import StandardScaler\n",
    "from sklearn.pipeline import make_pipeline\n",
    "from sklearn.ensemble import RandomForestClassifier, StackingClassifier\n",
    "from sklearn.tree import DecisionTreeClassifier\n",
    "from sklearn.neighbors import KNeighborsClassifier\n",
    "from xgboost import XGBClassifier\n",
    "from sklearn.linear_model import LogisticRegression\n",
    "from sklearn.metrics import classification_report, confusion_matrix\n",
    "import seaborn as sns\n",
    "import matplotlib.pyplot as plt\n",
    "from imblearn.over_sampling import SMOTE\n",
    "\n",
    "# 1. Define feature matrix X and target vector y\n",
    "# X = <your feature matrix>\n",
    "# y = <your labels>\n",
    "\n",
    "# 2. Train-test split (stratified)\n",
    "X_train, X_test, y_train, y_test = train_test_split(\n",
    "    X, y, stratify=y, test_size=0.2, random_state=42\n",
    ")\n",
    "\n",
    "# 3. Cross-validation strategy\n",
    "cv_strategy = StratifiedKFold(n_splits=5, shuffle=True, random_state=42)\n",
    "\n",
    "# 4. Define hyperparameter grids\n",
    "param_grid_dt = {\n",
    "    'max_depth': [3, 5, 7],\n",
    "    'min_samples_split': [2, 5, 10],\n",
    "    'class_weight': ['balanced', None]\n",
    "}\n",
    "\n",
    "param_grid_knn = {\n",
    "    'kneighborsclassifier__n_neighbors': [3, 5, 7],\n",
    "    'kneighborsclassifier__weights': ['uniform', 'distance']\n",
    "}\n",
    "\n",
    "param_grid_rf = {\n",
    "    'n_estimators': [100, 200],\n",
    "    'max_depth': [5, 7, 10],\n",
    "    'min_samples_split': [2, 5],\n",
    "    'class_weight': ['balanced', None]\n",
    "}\n",
    "\n",
    "param_grid_xgb = {\n",
    "    'n_estimators': [100, 200],\n",
    "    'max_depth': [3, 5, 7],\n",
    "    'learning_rate': [0.05, 0.1, 0.2],\n",
    "    'scale_pos_weight': [1, 2, 3]\n",
    "}\n",
    "\n",
    "# 5. Initialize models\n",
    "models = {\n",
    "    'dt': (DecisionTreeClassifier(random_state=42), param_grid_dt),\n",
    "    'knn': (make_pipeline(StandardScaler(), KNeighborsClassifier()), param_grid_knn),\n",
    "    'rf': (RandomForestClassifier(random_state=42), param_grid_rf),\n",
    "    'xgb': (XGBClassifier(use_label_encoder=False, eval_metric='logloss', random_state=42), param_grid_xgb)\n",
    "}\n",
    "\n",
    "# 6. Grid Search to find best base estimators\n",
    "best_estimators = {}\n",
    "\n",
    "for name, (model, param_grid) in models.items():\n",
    "    print(f\"Tuning {name.upper()}...\")\n",
    "    gs = GridSearchCV(model, param_grid, cv=cv_strategy, n_jobs=-1, scoring='recall')\n",
    "    gs.fit(X_train, y_train)\n",
    "    best_estimators[name] = gs.best_estimator_\n",
    "    print(f\"Best params for {name.upper()}: {gs.best_params_}\")\n",
    "    print(f\"Best CV Recall: {gs.best_score_:.4f}\")\n",
    "    print(\"-\" * 60)\n",
    "\n",
    "# 7. Apply SMOTE to address class imbalance\n",
    "smote = SMOTE(sampling_strategy='minority', random_state=42,k_neighbors=1)\n",
    "X_train_resampled, y_train_resampled = smote.fit_resample(X_train, y_train)\n",
    "\n",
    "# 8. Build Stacking Classifier\n",
    "stack_model = StackingClassifier(\n",
    "    estimators=[(name, model) for name, model in best_estimators.items()],\n",
    "    final_estimator=LogisticRegression(class_weight='balanced', random_state=42),\n",
    "    cv=cv_strategy,\n",
    "    n_jobs=-1,\n",
    "    passthrough=False  # Turned off for safety against overfitting\n",
    ")\n",
    "\n",
    "# 9. Train Stacking Classifier on resampled data\n",
    "stack_model.fit(X_train_resampled, y_train_resampled)\n",
    "\n",
    "# 10. Evaluate on untouched test set\n",
    "y_pred = stack_model.predict(X_test)\n",
    "\n",
    "print(\"\\nClassification Report for Stacked Model:\")\n",
    "print(classification_report(y_test, y_pred))\n",
    "\n",
    "cm = confusion_matrix(y_test, y_pred)\n",
    "plt.figure(figsize=(8, 6))\n",
    "sns.heatmap(cm, annot=True, fmt='d', cmap='Blues')\n",
    "plt.xlabel('Predicted')\n",
    "plt.ylabel('Actual')\n",
    "plt.title('Confusion Matrix - Stacked Model')\n",
    "plt.show()\n"
   ]
  },
  {
   "cell_type": "code",
   "execution_count": 21,
   "id": "a9ff7b8e",
   "metadata": {},
   "outputs": [],
   "source": [
    "meta_model = LogisticRegression(random_state=42)\n"
   ]
  },
  {
   "cell_type": "code",
   "execution_count": 22,
   "id": "69a826f7",
   "metadata": {},
   "outputs": [
    {
     "ename": "NameError",
     "evalue": "name 'base_models' is not defined",
     "output_type": "error",
     "traceback": [
      "\u001b[1;31m---------------------------------------------------------------------------\u001b[0m",
      "\u001b[1;31mNameError\u001b[0m                                 Traceback (most recent call last)",
      "Cell \u001b[1;32mIn[22], line 2\u001b[0m\n\u001b[0;32m      1\u001b[0m stack_model \u001b[38;5;241m=\u001b[39m StackingClassifier(\n\u001b[1;32m----> 2\u001b[0m     estimators\u001b[38;5;241m=\u001b[39m\u001b[43mbase_models\u001b[49m,\n\u001b[0;32m      3\u001b[0m     final_estimator\u001b[38;5;241m=\u001b[39mmeta_model,\n\u001b[0;32m      4\u001b[0m     cv\u001b[38;5;241m=\u001b[39m\u001b[38;5;241m5\u001b[39m,\n\u001b[0;32m      5\u001b[0m     passthrough\u001b[38;5;241m=\u001b[39m\u001b[38;5;28;01mTrue\u001b[39;00m,\n\u001b[0;32m      6\u001b[0m     n_jobs\u001b[38;5;241m=\u001b[39m\u001b[38;5;241m-\u001b[39m\u001b[38;5;241m1\u001b[39m\n\u001b[0;32m      7\u001b[0m )\n\u001b[0;32m      8\u001b[0m stack_model\u001b[38;5;241m.\u001b[39mfit(X,y)\n",
      "\u001b[1;31mNameError\u001b[0m: name 'base_models' is not defined"
     ]
    }
   ],
   "source": [
    "stack_model = StackingClassifier(\n",
    "    estimators=base_models,\n",
    "    final_estimator=meta_model,\n",
    "    cv=5,\n",
    "    passthrough=True,\n",
    "    n_jobs=-1\n",
    ")\n",
    "stack_model.fit(X,y)"
   ]
  },
  {
   "cell_type": "code",
   "execution_count": null,
   "id": "d3a65202",
   "metadata": {},
   "outputs": [],
   "source": [
    "cv = StratifiedKFold(n_splits=5, shuffle=True, random_state=42)\n",
    "\n",
    "y_pred = cross_val_predict(stack_model, X, y, cv=cv, method='predict')\n",
    "\n",
    "acc = accuracy_score(y, y_pred)\n",
    "cm = confusion_matrix(y, y_pred)\n",
    "\n",
    "print(f\"Accuracy: {acc:.4f}\")\n",
    "print(\"\\nClassification Report:\")\n",
    "print(classification_report(y, y_pred))\n",
    "\n",
    "print(\"\\nConfusion Matrix:\")\n",
    "print(cm)\n"
   ]
  },
  {
   "cell_type": "markdown",
   "id": "d4c7256a",
   "metadata": {},
   "source": []
  }
 ],
 "metadata": {
  "kernelspec": {
   "display_name": "AaHB_CS556B_Env",
   "language": "python",
   "name": "python3"
  },
  "language_info": {
   "codemirror_mode": {
    "name": "ipython",
    "version": 3
   },
   "file_extension": ".py",
   "mimetype": "text/x-python",
   "name": "python",
   "nbconvert_exporter": "python",
   "pygments_lexer": "ipython3",
   "version": "3.11.4"
  }
 },
 "nbformat": 4,
 "nbformat_minor": 5
}
